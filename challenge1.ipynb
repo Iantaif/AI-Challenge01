{
 "cells": [
  {
   "cell_type": "markdown",
   "metadata": {},
   "source": [
    "1. Deciding the items"
   ]
  },
  {
   "cell_type": "code",
   "execution_count": 66,
   "metadata": {},
   "outputs": [],
   "source": [
    "# Create class.txt\n",
    "f = open(\"class.txt\", \"r\")\n",
    "# Read the class\n",
    "classes = f.readlines()\n",
    "f.close()"
   ]
  },
  {
   "cell_type": "code",
   "execution_count": 67,
   "metadata": {},
   "outputs": [
    {
     "name": "stdout",
     "output_type": "stream",
     "text": [
      "['banana', 'star', 'circle', 'house']\n"
     ]
    }
   ],
   "source": [
    "classes = [c.replace('\\n','').replace(' ','_') for c in classes]\n",
    "print(classes)"
   ]
  },
  {
   "cell_type": "code",
   "execution_count": 68,
   "metadata": {},
   "outputs": [
    {
     "name": "stdout",
     "output_type": "stream",
     "text": [
      "mkdir: data: File exists\n"
     ]
    }
   ],
   "source": [
    "# Create a directory to store the dataset\n",
    "!mkdir data"
   ]
  },
  {
   "cell_type": "code",
   "execution_count": 69,
   "metadata": {},
   "outputs": [],
   "source": [
    "import urllib.request\n",
    "def download():\n",
    "\n",
    "  base = 'https://storage.googleapis.com/quickdraw_dataset/full/numpy_bitmap/'\n",
    "  for c in classes:\n",
    "    cls_url = c.replace('_', '%20')\n",
    "    path = base+cls_url+'.npy'\n",
    "    print(path)\n",
    "    urllib.request.urlretrieve(path, 'data/'+c+'.npy')"
   ]
  },
  {
   "cell_type": "code",
   "execution_count": 70,
   "metadata": {},
   "outputs": [
    {
     "name": "stdout",
     "output_type": "stream",
     "text": [
      "https://storage.googleapis.com/quickdraw_dataset/full/numpy_bitmap/banana.npy\n"
     ]
    },
    {
     "name": "stdout",
     "output_type": "stream",
     "text": [
      "https://storage.googleapis.com/quickdraw_dataset/full/numpy_bitmap/star.npy\n",
      "https://storage.googleapis.com/quickdraw_dataset/full/numpy_bitmap/circle.npy\n",
      "https://storage.googleapis.com/quickdraw_dataset/full/numpy_bitmap/house.npy\n"
     ]
    }
   ],
   "source": [
    "download()"
   ]
  },
  {
   "cell_type": "markdown",
   "metadata": {},
   "source": [
    "2. Load data"
   ]
  },
  {
   "cell_type": "code",
   "execution_count": 71,
   "metadata": {},
   "outputs": [],
   "source": [
    "import numpy as np\n",
    "import glob \n",
    "import os \n",
    "import matplotlib.pyplot as plt\n",
    "from random import randint\n",
    "\n",
    "%matplotlib inline"
   ]
  },
  {
   "cell_type": "code",
   "execution_count": 72,
   "metadata": {},
   "outputs": [],
   "source": [
    "def load_data(root, vfold_ratio=0.2, max_items_per_class= 4000 ):\n",
    "    # Get the list of npy files in the path directory\n",
    "    all_files = glob.glob(os.path.join(root, '*.npy'))\n",
    "\n",
    "    # Initiate variables for input features(x) and labels(y)\n",
    "    x = np.empty([0, 784]) \n",
    "    y = np.empty([0]) \n",
    "\n",
    "    # Create an array for 4 of our classes\n",
    "    class_names = []\n",
    "\n",
    "    # Load each data file\n",
    "    for idx, file in enumerate(all_files):\n",
    "\n",
    "        data = np.load(file)\n",
    "\n",
    "        # Limit the number of maximum items for class to the defined parameter\n",
    "        data = data[0: max_items_per_class, :]\n",
    "\n",
    "        # Create labels for the loaded data\n",
    "        labels = np.full(data.shape[0], idx)\n",
    "\n",
    "        # Concatenate existing image and labels into x and y\n",
    "        x = np.concatenate((x, data), axis=0) \n",
    "        y = np.append(y, labels) \n",
    "\n",
    "        # Extract class name and extension from the path name then add it to the list\n",
    "        class_name, ext = os.path.splitext(os.path.basename(file))\n",
    "        class_names.append(class_name)\n",
    "\n",
    "    data = None\n",
    "    labels = None\n",
    "\n",
    "    # Randomize the dataset\n",
    "    permutation = np.random.permutation(y.shape[0])\n",
    "    x = x[permutation, :]\n",
    "    y = y[permutation]\n",
    "\n",
    "    # Separate into training and testing based on vfold ratio\n",
    "    vfold_size = int(x.shape[0]/100*(vfold_ratio*100))\n",
    "\n",
    "    x_test = x[0:vfold_size, :]\n",
    "    y_test = y[0:vfold_size]\n",
    "\n",
    "    x_train = x[vfold_size:x.shape[0], :]\n",
    "    y_train = y[vfold_size:y.shape[0]]\n",
    "    return x_train, y_train, x_test, y_test, class_names"
   ]
  },
  {
   "cell_type": "code",
   "execution_count": 73,
   "metadata": {},
   "outputs": [],
   "source": [
    "# Split the dataset into training set and testing set\n",
    "x_train, y_train, x_test, y_test, class_names = load_data('data')\n",
    "num_classes = len(class_names)\n",
    "image_size = 28"
   ]
  },
  {
   "cell_type": "code",
   "execution_count": 88,
   "metadata": {},
   "outputs": [
    {
     "ename": "ValueError",
     "evalue": "can only convert an array of size 1 to a Python scalar",
     "output_type": "error",
     "traceback": [
      "\u001b[0;31m---------------------------------------------------------------------------\u001b[0m",
      "\u001b[0;31mValueError\u001b[0m                                Traceback (most recent call last)",
      "\u001b[1;32m/Users/mac/AI-Challenge1/challenge1.ipynb Cell 11\u001b[0m line \u001b[0;36m3\n\u001b[1;32m      <a href='vscode-notebook-cell:/Users/mac/AI-Challenge1/challenge1.ipynb#X13sZmlsZQ%3D%3D?line=0'>1</a>\u001b[0m idx \u001b[39m=\u001b[39m randint(\u001b[39m0\u001b[39m, \u001b[39mlen\u001b[39m(x_train))\n\u001b[1;32m      <a href='vscode-notebook-cell:/Users/mac/AI-Challenge1/challenge1.ipynb#X13sZmlsZQ%3D%3D?line=1'>2</a>\u001b[0m plt\u001b[39m.\u001b[39mimshow(x_train[idx]\u001b[39m.\u001b[39mreshape(\u001b[39m28\u001b[39m,\u001b[39m28\u001b[39m))\n\u001b[0;32m----> <a href='vscode-notebook-cell:/Users/mac/AI-Challenge1/challenge1.ipynb#X13sZmlsZQ%3D%3D?line=2'>3</a>\u001b[0m \u001b[39mprint\u001b[39m(class_names[\u001b[39mint\u001b[39m(y_train[idx]\u001b[39m.\u001b[39;49mitem())])\n",
      "\u001b[0;31mValueError\u001b[0m: can only convert an array of size 1 to a Python scalar"
     ]
    },
    {
     "data": {
      "image/png": "[encoded data removed]",
      "text/plain": [
       "<Figure size 640x480 with 1 Axes>"
      ]
     },
     "metadata": {},
     "output_type": "display_data"
    }
   ],
   "source": [
    "idx = randint(0, len(x_train))\n",
    "plt.imshow(x_train[idx].reshape(28,28))\n",
    "print(class_names[int(y_train[idx].item())])"
   ]
  },
  {
   "cell_type": "markdown",
   "metadata": {},
   "source": [
    "3. Preprocess the data"
   ]
  },
  {
   "cell_type": "code",
   "execution_count": null,
   "metadata": {},
   "outputs": [],
   "source": []
  },
  {
   "cell_type": "code",
   "execution_count": 75,
   "metadata": {},
   "outputs": [],
   "source": [
    "import tensorflow.keras as keras\n",
    "from tensorflow.keras.preprocessing.image import ImageDataGenerator\n",
    "from tensorflow.keras import models, layers\n",
    "import tensorflow as tf"
   ]
  },
  {
   "cell_type": "code",
   "execution_count": 76,
   "metadata": {},
   "outputs": [],
   "source": [
    "# Reshape and normalise\n",
    "x_train = x_train.reshape(x_train.shape[0], image_size, image_size, 1).astype('float32')\n",
    "x_test = x_test.reshape(x_test.shape[0], image_size, image_size, 1).astype('float32')\n",
    "\n",
    "x_train /= 255\n",
    "x_test /= 255\n",
    "\n",
    "# Convert class labels into one-hot encoded vector\n",
    "y_train = keras.utils.to_categorical(y_train, num_classes)\n",
    "y_test = keras.utils.to_categorical(y_test, num_classes)"
   ]
  },
  {
   "cell_type": "code",
   "execution_count": 77,
   "metadata": {},
   "outputs": [],
   "source": [
    "# Data augmentation\n",
    "datagen = ImageDataGenerator(\n",
    "    rotation_range=20,\n",
    "    width_shift_range=0.2,\n",
    "    height_shift_range=0.2,\n",
    "    shear_range=0.2,\n",
    "    zoom_range=0.2,\n",
    "    horizontal_flip=True,\n",
    "    fill_mode='nearest'\n",
    ")\n",
    "\n",
    "datagen.fit(x_train)"
   ]
  },
  {
   "cell_type": "code",
   "execution_count": 78,
   "metadata": {},
   "outputs": [],
   "source": [
    "# Increase model capacity\n",
    "model = models.Sequential()\n",
    "\n",
    "model.add(layers.Conv2D(32, (3, 3), padding='same', input_shape=x_train.shape[1:], activation='relu'))\n",
    "model.add(layers.MaxPooling2D(pool_size=(2, 2)))\n",
    "\n",
    "model.add(layers.Conv2D(64, (3, 3), padding='same', activation='relu'))\n",
    "model.add(layers.MaxPooling2D(pool_size=(2, 2)))\n",
    "\n",
    "model.add(layers.Conv2D(128, (3, 3), padding='same', activation='relu'))\n",
    "model.add(layers.MaxPooling2D(pool_size=(2, 2)))\n",
    "\n",
    "model.add(layers.Flatten())\n",
    "\n",
    "# Regularization and increased complexity\n",
    "model.add(layers.Dense(256, activation='relu'))\n",
    "model.add(layers.Dropout(0.5))\n",
    "\n",
    "model.add(layers.Dense(4, activation='softmax'))\n",
    "\n",
    "# Compile the model\n",
    "model.compile(\n",
    "    loss='categorical_crossentropy',\n",
    "    optimizer='adam',\n",
    "    metrics=['accuracy']\n",
    ")\n",
    "\n",
    "# Train the model with early stopping\n",
    "early_stopping = tf.keras.callbacks.EarlyStopping(\n",
    "    monitor='val_loss',\n",
    "    patience=5,\n",
    "    restore_best_weights=True\n",
    ")"
   ]
  },
  {
   "cell_type": "code",
   "execution_count": 79,
   "metadata": {},
   "outputs": [
    {
     "name": "stdout",
     "output_type": "stream",
     "text": [
      "Epoch 1/20\n",
      "50/50 [==============================] - 4s 55ms/step - loss: 0.9358 - accuracy: 0.6000 - val_loss: 0.3187 - val_accuracy: 0.9078\n",
      "Epoch 2/20\n",
      "50/50 [==============================] - 3s 51ms/step - loss: 0.4570 - accuracy: 0.8462 - val_loss: 0.2669 - val_accuracy: 0.9175\n",
      "Epoch 3/20\n",
      "50/50 [==============================] - 3s 52ms/step - loss: 0.3169 - accuracy: 0.8988 - val_loss: 0.1536 - val_accuracy: 0.9575\n",
      "Epoch 4/20\n",
      "50/50 [==============================] - 3s 55ms/step - loss: 0.2567 - accuracy: 0.9172 - val_loss: 0.1614 - val_accuracy: 0.9534\n",
      "Epoch 5/20\n",
      "50/50 [==============================] - 3s 52ms/step - loss: 0.2128 - accuracy: 0.9372 - val_loss: 0.1427 - val_accuracy: 0.9631\n",
      "Epoch 6/20\n",
      "50/50 [==============================] - 2s 50ms/step - loss: 0.2066 - accuracy: 0.9356 - val_loss: 0.1304 - val_accuracy: 0.9634\n",
      "Epoch 7/20\n",
      "50/50 [==============================] - 3s 52ms/step - loss: 0.1739 - accuracy: 0.9441 - val_loss: 0.1076 - val_accuracy: 0.9669\n",
      "Epoch 8/20\n",
      "50/50 [==============================] - 3s 54ms/step - loss: 0.1796 - accuracy: 0.9406 - val_loss: 0.1520 - val_accuracy: 0.9613\n",
      "Epoch 9/20\n",
      "50/50 [==============================] - 3s 52ms/step - loss: 0.1660 - accuracy: 0.9475 - val_loss: 0.1058 - val_accuracy: 0.9675\n",
      "Epoch 10/20\n",
      "50/50 [==============================] - 3s 50ms/step - loss: 0.1509 - accuracy: 0.9541 - val_loss: 0.1175 - val_accuracy: 0.9650\n",
      "Epoch 11/20\n",
      "50/50 [==============================] - 3s 52ms/step - loss: 0.1392 - accuracy: 0.9531 - val_loss: 0.1326 - val_accuracy: 0.9644\n",
      "Epoch 12/20\n",
      "50/50 [==============================] - 3s 55ms/step - loss: 0.1573 - accuracy: 0.9506 - val_loss: 0.1000 - val_accuracy: 0.9700\n",
      "Epoch 13/20\n",
      "50/50 [==============================] - 3s 52ms/step - loss: 0.1358 - accuracy: 0.9572 - val_loss: 0.0985 - val_accuracy: 0.9703\n",
      "Epoch 14/20\n",
      "50/50 [==============================] - 3s 50ms/step - loss: 0.1411 - accuracy: 0.9563 - val_loss: 0.0932 - val_accuracy: 0.9719\n",
      "Epoch 15/20\n",
      "50/50 [==============================] - 3s 53ms/step - loss: 0.1274 - accuracy: 0.9616 - val_loss: 0.0848 - val_accuracy: 0.9722\n",
      "Epoch 16/20\n",
      "50/50 [==============================] - 3s 69ms/step - loss: 0.1151 - accuracy: 0.9619 - val_loss: 0.0920 - val_accuracy: 0.9716\n",
      "Epoch 17/20\n",
      "50/50 [==============================] - 3s 62ms/step - loss: 0.1199 - accuracy: 0.9603 - val_loss: 0.0925 - val_accuracy: 0.9716\n",
      "Epoch 18/20\n",
      "50/50 [==============================] - 3s 59ms/step - loss: 0.1213 - accuracy: 0.9616 - val_loss: 0.0847 - val_accuracy: 0.9722\n",
      "Epoch 19/20\n",
      "50/50 [==============================] - 3s 60ms/step - loss: 0.1142 - accuracy: 0.9619 - val_loss: 0.0824 - val_accuracy: 0.9741\n",
      "Epoch 20/20\n",
      "50/50 [==============================] - 3s 55ms/step - loss: 0.1341 - accuracy: 0.9578 - val_loss: 0.0858 - val_accuracy: 0.9728\n"
     ]
    },
    {
     "data": {
      "image/png": "[encoded data removed]",
      "text/plain": [
       "<Figure size 1200x600 with 2 Axes>"
      ]
     },
     "metadata": {},
     "output_type": "display_data"
    }
   ],
   "source": [
    "history = model.fit(\n",
    "    datagen.flow(x_train, y_train, batch_size=64),\n",
    "    validation_data=(x_test, y_test),\n",
    "    steps_per_epoch=len(x_train) // 256,\n",
    "    epochs=20,\n",
    "    callbacks=[early_stopping]\n",
    ")\n",
    "\n",
    "# Plot training & validation loss values\n",
    "plt.figure(figsize=(12, 6))\n",
    "plt.subplot(1, 2, 1)\n",
    "plt.plot(history.history['loss'])\n",
    "plt.plot(history.history['val_loss'])\n",
    "plt.title('Model loss')\n",
    "plt.xlabel('Epoch')\n",
    "plt.ylabel('Loss')\n",
    "plt.legend(['Train', 'Validation'], loc='upper right')\n",
    "\n",
    "# Plot training & validation accuracy values\n",
    "plt.subplot(1, 2, 2)\n",
    "plt.plot(history.history['accuracy'])\n",
    "plt.plot(history.history['val_accuracy'])\n",
    "plt.title('Model accuracy')\n",
    "plt.xlabel('Epoch')\n",
    "plt.ylabel('Accuracy')\n",
    "plt.legend(['Train', 'Validation'], loc='lower right')\n",
    "\n",
    "plt.show()"
   ]
  },
  {
   "cell_type": "code",
   "execution_count": 80,
   "metadata": {},
   "outputs": [
    {
     "name": "stdout",
     "output_type": "stream",
     "text": [
      "Test accuarcy: 97.28%\n"
     ]
    }
   ],
   "source": [
    "score = model.evaluate(x_test, y_test, verbose=0)\n",
    "print('Test accuarcy: {:0.2f}%'.format(score[1] * 100))"
   ]
  },
  {
   "cell_type": "code",
   "execution_count": 84,
   "metadata": {},
   "outputs": [
    {
     "name": "stdout",
     "output_type": "stream",
     "text": [
      "1/1 [==============================] - 0s 24ms/step\n",
      "['banana', 'circle', 'star', 'house']\n"
     ]
    },
    {
     "data": {
      "image/png": "[encoded data removed]",
      "text/plain": [
       "<Figure size 640x480 with 1 Axes>"
      ]
     },
     "metadata": {},
     "output_type": "display_data"
    }
   ],
   "source": [
    "# Inference\n",
    "\n",
    "import matplotlib.pyplot as plt\n",
    "from random import randint\n",
    "%matplotlib inline\n",
    "idx = randint(0, len(x_test))\n",
    "img = x_test[idx]\n",
    "plt.imshow(img.squeeze())\n",
    "pred = model.predict(np.expand_dims(img, axis=0))[0]\n",
    "ind = (-pred).argsort()[:5]\n",
    "latex = [class_names[x] for x in ind]\n",
    "print(latex)"
   ]
  },
  {
   "cell_type": "code",
   "execution_count": 82,
   "metadata": {},
   "outputs": [],
   "source": [
    "\n",
    "#storing classes\n",
    "with open('class_names.txt', 'w') as file_handler:\n",
    "    for item in class_names:\n",
    "        file_handler.write(\"{}\\n\".format(item))"
   ]
  },
  {
   "cell_type": "code",
   "execution_count": null,
   "metadata": {},
   "outputs": [],
   "source": []
  },
  {
   "cell_type": "code",
   "execution_count": 83,
   "metadata": {},
   "outputs": [],
   "source": [
    "#saving the model and download it into laptop\n",
    "model.save('keras.h5')"
   ]
  },
  {
   "cell_type": "code",
   "execution_count": null,
   "metadata": {},
   "outputs": [],
   "source": []
  }
 ],
 "metadata": {
  "kernelspec": {
   "display_name": "env1",
   "language": "python",
   "name": "python3"
  },
  "language_info": {
   "codemirror_mode": {
    "name": "ipython",
    "version": 3
   },
   "file_extension": ".py",
   "mimetype": "text/x-python",
   "name": "python",
   "nbconvert_exporter": "python",
   "pygments_lexer": "ipython3",
   "version": "3.11.5"
  }
 },
 "nbformat": 4,
 "nbformat_minor": 2
}
